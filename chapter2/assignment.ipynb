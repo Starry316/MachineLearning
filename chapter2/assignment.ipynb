{
 "cells": [
  {
   "cell_type": "code",
   "execution_count": 3,
   "metadata": {},
   "outputs": [],
   "source": [
    "import numpy as np"
   ]
  },
  {
   "cell_type": "code",
   "execution_count": 4,
   "metadata": {},
   "outputs": [],
   "source": [
    "def mahalanobis_distance(x ,dataset):\n",
    "    #  平方后的马氏距离\n",
    "    res = sq_mahalanobis_distance(x ,dataset)\n",
    "    #  开根号\n",
    "    res = np.sqrt(res)\n",
    "    return res"
   ]
  },
  {
   "cell_type": "code",
   "execution_count": 5,
   "metadata": {},
   "outputs": [],
   "source": [
    "def euclidean_distance(a, b):\n",
    "    # 计算两点的欧式距离\n",
    "    dist = np.sqrt(np.sum(np.square(a - b)))\n",
    "    #dist = np.linalg.norm(a - b) 这个也可以计算\n",
    "    return dist"
   ]
  },
  {
   "cell_type": "code",
   "execution_count": 6,
   "metadata": {},
   "outputs": [],
   "source": [
    "def g(x ,dataset, pw):\n",
    "    res = sq_mahalanobis_distance(x ,dataset)\n",
    "    res = res * (-0.5)\n",
    "    # numpy 的log（）默认是ln函数\n",
    "    res = res +  np.log(pw)\n",
    "    return res"
   ]
  },
  {
   "cell_type": "code",
   "execution_count": 7,
   "metadata": {},
   "outputs": [],
   "source": [
    "def sq_mahalanobis_distance(x ,dataset):\n",
    "    #   u为数据集的样本均值\n",
    "    u = dataset.mean(1)\n",
    "    #   S为数据集的协方差矩阵\n",
    "    S = np.cov(dataset)\n",
    "    #   将x和u变成列向量\n",
    "    x = x.T\n",
    "    u = u.T\n",
    "    #   首先计算 x - u \n",
    "    res = x-u\n",
    "    #   计算（x - u）的转置和S的逆的点积\n",
    "    res = np.dot(res.T, np.linalg.inv(S))\n",
    "    #  上面的结果和（x - u）计算点积\n",
    "    res = np.dot(res, (x-u))\n",
    "    return res"
   ]
  },
  {
   "cell_type": "code",
   "execution_count": 10,
   "metadata": {},
   "outputs": [
    {
     "name": "stdout",
     "output_type": "stream",
     "text": [
      "2.6747570368060556\n"
     ]
    }
   ],
   "source": [
    "w1 = np.array([[-5.01,-8.12,-3.68],\n",
    "             [-5.43,-3.48,-3.54],\n",
    "             [1.08,-5.52,1.66],\n",
    "             [0.86,-3.78,-4.11],\n",
    "             [-2.67,0.63,7.39],\n",
    "             [4.94,3.29,2.08],\n",
    "              [-2.51,2.09,-2.59],\n",
    "              [-2.25,-2.13,-6.94],\n",
    "              [5.56,2.86,-2.26],\n",
    "              [1.03,-3.33,4.33]])\n",
    "w2 = np.array([[-0.91,-0.18,-0.05],\n",
    "              [1.30,-2.06,-3.53],\n",
    "              [-7.75,-4.54,-0.95],\n",
    "              [-5.47,0.50,3.92],\n",
    "              [6.14,5.72,-1.85],\n",
    "              [3.60,1.26,4.36],\n",
    "              [5.37,-4.63,-3.65],\n",
    "              [7.18,1.46,-6.66],\n",
    "              [-7.39,1.17,6.30],\n",
    "              [-7.50,-6.32,-0.31]])\n",
    "w3 = np.array([[5.35,2.26,8.13],\n",
    "              [5.12,3.22,-2.66],\n",
    "               [-1.34,-5.31,-9.87],\n",
    "               [4.48,3.42,5.19],\n",
    "               [7.11,2.39,9.21],\n",
    "               [7.17,4.33,-0.98],\n",
    "               [5.75,3.97,6.65],\n",
    "               [0.77,0.27,2.41],\n",
    "               [0.90,-0.43,-8.71],\n",
    "               [3.52,-0.36,6.43]])\n",
    "w1 = w1.T\n",
    "w2 = w2.T\n",
    "w3 = w3.T\n",
    "x1 = np.array([1,2,1])\n",
    "x2 = np.array([5,3,2])\n",
    "x3 = np.array([0,0,0])\n",
    "x4 = np.array([1,0,0])\n",
    "print(mahalanobis_distance(x1,w3))"
   ]
  },
  {
   "cell_type": "code",
   "execution_count": null,
   "metadata": {},
   "outputs": [],
   "source": []
  }
 ],
 "metadata": {
  "kernelspec": {
   "display_name": "Python 3",
   "language": "python",
   "name": "python3"
  },
  "language_info": {
   "codemirror_mode": {
    "name": "ipython",
    "version": 3
   },
   "file_extension": ".py",
   "mimetype": "text/x-python",
   "name": "python",
   "nbconvert_exporter": "python",
   "pygments_lexer": "ipython3",
   "version": "3.5.4"
  }
 },
 "nbformat": 4,
 "nbformat_minor": 1
}
