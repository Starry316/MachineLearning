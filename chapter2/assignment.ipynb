{
 "cells": [
  {
   "cell_type": "code",
   "execution_count": 1,
   "metadata": {},
   "outputs": [],
   "source": [
    "import numpy as np\n"
   ]
  },
  {
   "cell_type": "code",
   "execution_count": 12,
   "metadata": {},
   "outputs": [],
   "source": [
    "\n",
    "def mahalanobis_distance(x ,dataset):\n",
    "    \"\"\"计算马氏距离\n",
    "    Args:\n",
    "        x : 特征向量\n",
    "        dataset: 样本数据集\n",
    "\n",
    "    Returns:\n",
    "        马氏距离的值\n",
    "    \"\"\"\n",
    "    #  平方后的马氏距离\n",
    "    res = sq_mahalanobis_distance(x ,dataset)\n",
    "    #  开根号\n",
    "    res = np.sqrt(res)\n",
    "    return res"
   ]
  },
  {
   "cell_type": "code",
   "execution_count": 13,
   "metadata": {},
   "outputs": [],
   "source": [
    "def sq_mahalanobis_distance(x ,dataset):\n",
    "    \"\"\"计算马氏距离的平方\n",
    "    Args:\n",
    "        x : 特征向量\n",
    "        dataset: 样本数据集\n",
    "    Returns:\n",
    "        特征向量和样本数据集马氏距离的平方\n",
    "    \"\"\"\n",
    "    #   u为数据集的样本均值\n",
    "    u = dataset.mean(1)\n",
    "    #   S为数据集的协方差矩阵\n",
    "    S = np.cov(dataset)\n",
    "    #   将x和u变成列向量\n",
    "    x = x.T\n",
    "    u = u.T\n",
    "    #   首先计算 x - u \n",
    "    res = x-u\n",
    "    #   计算（x - u）的转置和S的逆的点积\n",
    "    res = np.dot(res.T, np.linalg.inv(S))\n",
    "    #  上面的结果和（x - u）计算点积\n",
    "    res = np.dot(res, (x-u))\n",
    "    return res"
   ]
  },
  {
   "cell_type": "code",
   "execution_count": 14,
   "metadata": {},
   "outputs": [],
   "source": [
    "def euclidean_distance(a, b):\n",
    "    # 计算两点的欧式距离\n",
    "    dist = np.sqrt(np.sum(np.square(a - b)))\n",
    "    #dist = np.linalg.norm(a - b) 这个也可以计算\n",
    "    return dist"
   ]
  },
  {
   "cell_type": "code",
   "execution_count": 15,
   "metadata": {},
   "outputs": [],
   "source": [
    "def g(x ,dataset, pw):\n",
    "    \"\"\"概率密度函数服从多元正态分布的判别函数\n",
    "    Args:\n",
    "        x : 特征向量\n",
    "        dataset: 样本数据集\n",
    "        pw：先验概率\n",
    "    Returns:\n",
    "        判别函数计算的结果\n",
    "    \"\"\"\n",
    "    d = x.shape[0]\n",
    "    # 平方马氏距离\n",
    "    res = sq_mahalanobis_distance(x ,dataset)\n",
    "    # 乘以-1/2\n",
    "    res = res * (-0.5)\n",
    "    # -（d/2 ）* ln （2pi） 实际上这一项可以去掉\n",
    "    res = res - (d * np.log(2 * np.pi))* 0.5\n",
    "    # - （1/2） * ln （协方差矩阵的行列式）\n",
    "    res = res - 0.5 * np.log(np.linalg.det( np.cov(dataset) ))\n",
    "    # ln (pw)\n",
    "    res = res +  np.log(pw)\n",
    "    return res"
   ]
  },
  {
   "cell_type": "code",
   "execution_count": 16,
   "metadata": {},
   "outputs": [],
   "source": [
    "def classifier(x ,P):\n",
    "    \"\"\"计算特征向量在每个类别的判别函数得分，返回得分最高的类别\n",
    "    Args:\n",
    "        x : 特征向量\n",
    "        P : 先验概率列表\n",
    "    Returns:\n",
    "        分类的类别\n",
    "    \"\"\"\n",
    "    score = []\n",
    "    for i in range(len(data)):\n",
    "        score.append(g(x ,data[i], P[i]))\n",
    "    return np.argmax(np.array(score))"
   ]
  },
  {
   "cell_type": "code",
   "execution_count": 17,
   "metadata": {},
   "outputs": [],
   "source": [
    "\"\"\"\n",
    "录入数据集\n",
    "\"\"\"\n",
    "w1 = np.array([[-5.01,-8.12,-3.68],\n",
    "             [-5.43,-3.48,-3.54],\n",
    "             [1.08,-5.52,1.66],\n",
    "             [0.86,-3.78,-4.11],\n",
    "             [-2.67,0.63,7.39],\n",
    "             [4.94,3.29,2.08],\n",
    "              [-2.51,2.09,-2.59],\n",
    "              [-2.25,-2.13,-6.94],\n",
    "              [5.56,2.86,-2.26],\n",
    "              [1.03,-3.33,4.33]])\n",
    "w2 = np.array([[-0.91,-0.18,-0.05],\n",
    "              [1.30,-2.06,-3.53],\n",
    "              [-7.75,-4.54,-0.95],\n",
    "              [-5.47,0.50,3.92],\n",
    "              [6.14,5.72,-4.85],\n",
    "              [3.60,1.26,4.36],\n",
    "              [5.37,-4.63,-3.65],\n",
    "              [7.18,1.46,-6.66],\n",
    "              [-7.39,1.17,6.30],\n",
    "              [-7.50,-6.32,-0.31]])\n",
    "w3 = np.array([[5.35,2.26,8.13],\n",
    "              [5.12,3.22,-2.66],\n",
    "               [-1.34,-5.31,-9.87],\n",
    "               [4.48,3.42,5.19],\n",
    "               [7.11,2.39,9.21],\n",
    "               [7.17,4.33,-0.98],\n",
    "               [5.75,3.97,6.65],\n",
    "               [0.77,0.27,2.41],\n",
    "               [0.90,-0.43,-8.71],\n",
    "               [3.52,-0.36,6.43]])\n",
    "# 上面的格式是为了方便录入，还需要进行转置\n",
    "w1 = w1.T\n",
    "w2 = w2.T\n",
    "w3 = w3.T\n",
    "# data中存储所有的样本数据\n",
    "data = [w1,w2,w3]"
   ]
  },
  {
   "cell_type": "code",
   "execution_count": 18,
   "metadata": {},
   "outputs": [],
   "source": [
    "\"\"\"\n",
    "录入测试点\n",
    "\"\"\"\n",
    "# x中存储测试点\n",
    "x = []\n",
    "x0 = np.array([1,2,1])\n",
    "x1 = np.array([5,3,2])\n",
    "x2 = np.array([0,0,0])\n",
    "x3 = np.array([1,0,0])\n",
    "x.append(x0)\n",
    "x.append(x1)\n",
    "x.append(x2)\n",
    "x.append(x3)\n",
    "\n",
    "\n",
    "# color = ['y','r','g']\n",
    "# ax = plt.subplot(111, projection='3d')\n",
    "# for i in range(len(data)):\n",
    "#     wT = data[i].T\n",
    "#     for j in range(len(wT)):\n",
    "#         ax.scatter(wT[j][0],wT[j][1], wT[j][2], c=color[i])\n",
    "# ax.set_zlabel('Z')  # 坐标轴\n",
    "# ax.set_ylabel('Y')\n",
    "# ax.set_xlabel('X')\n",
    "# plt.show()"
   ]
  },
  {
   "cell_type": "code",
   "execution_count": 19,
   "metadata": {},
   "outputs": [
    {
     "name": "stdout",
     "output_type": "stream",
     "text": [
      "x0 与 w1 之间的马氏距离: 1.014971\nx0 与 w2 之间的马氏距离: 0.858051\nx0 与 w3 之间的马氏距离: 2.674757\nx1 与 w1 之间的马氏距离: 1.557138\nx1 与 w2 之间的马氏距离: 1.755681\nx1 与 w3 之间的马氏距离: 0.647009\nx2 与 w1 之间的马氏距离: 0.489962\nx2 与 w2 之间的马氏距离: 0.268432\nx2 与 w3 之间的马氏距离: 2.241501\nx3 与 w1 之间的马氏距离: 0.487237\nx3 与 w2 之间的马氏距离: 0.451834\nx3 与 w3 之间的马氏距离: 1.462336\n"
     ]
    }
   ],
   "source": [
    "\"\"\"\n",
    "问题一的结果\n",
    "\"\"\"\n",
    "for i in range(4):\n",
    "    for j in range(3):\n",
    "         print(\"x%d 与 w%d 之间的马氏距离: %f\"%(\n",
    "               i,\n",
    "               j+1,\n",
    "               mahalanobis_distance(x[i], data[j])))"
   ]
  },
  {
   "cell_type": "code",
   "execution_count": 20,
   "metadata": {},
   "outputs": [
    {
     "name": "stdout",
     "output_type": "stream",
     "text": [
      "x0 的分类类别是 w2\nx1 的分类类别是 w3\nx2 的分类类别是 w1\nx3 的分类类别是 w1\n"
     ]
    }
   ],
   "source": [
    "\"\"\"\n",
    "问题二的结果\n",
    "\"\"\"\n",
    "P = [1/3, 1/3, 1/3]\n",
    "for i in range(4):        \n",
    "    print(\"x%d 的分类类别是 w%d\"%(i,classifier(x[i], P)+1))"
   ]
  },
  {
   "cell_type": "code",
   "execution_count": 21,
   "metadata": {},
   "outputs": [
    {
     "name": "stdout",
     "output_type": "stream",
     "text": [
      "x0 的分类类别是 w1\nx1 的分类类别是 w1\nx2 的分类类别是 w1\nx3 的分类类别是 w1\n"
     ]
    }
   ],
   "source": [
    "\"\"\"\n",
    "问题三的结果\n",
    "\"\"\"\n",
    "P = [0.8, 0.1, 0.1]\n",
    "for i in range(4):        \n",
    "    print(\"x%d 的分类类别是 w%d\"%(i,classifier(x[i], P)+1))\n"
   ]
  },
  {
   "cell_type": "code",
   "execution_count": 22,
   "metadata": {},
   "outputs": [],
   "source": []
  },
  {
   "cell_type": "code",
   "execution_count": null,
   "metadata": {},
   "outputs": [],
   "source": []
  }
 ],
 "metadata": {
  "kernelspec": {
   "display_name": "Python 3",
   "language": "python",
   "name": "python3"
  },
  "language_info": {
   "codemirror_mode": {
    "name": "ipython",
    "version": 3
   },
   "file_extension": ".py",
   "mimetype": "text/x-python",
   "name": "python",
   "nbconvert_exporter": "python",
   "pygments_lexer": "ipython3",
   "version": "3.5.4"
  }
 },
 "nbformat": 4,
 "nbformat_minor": 1
}
