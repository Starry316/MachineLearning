{
 "cells": [
  {
   "cell_type": "code",
   "execution_count": 1,
   "metadata": {},
   "outputs": [],
   "source": [
    "import numpy as np"
   ]
  },
  {
   "cell_type": "code",
   "execution_count": 10,
   "metadata": {},
   "outputs": [],
   "source": [
    "\"\"\"\n",
    "录入数据集\n",
    "\"\"\"\n",
    "w1 = np.array([[0.42, -0.087, 0.58],\n",
    "            [-0.2, -3.3, -3.4],\n",
    "            [1.3, -0.32, 1.7],\n",
    "            [0.39, 0.71, 0.23],\n",
    "            [-1.6, -5.3, -0.15],\n",
    "            [-0.029, 0.89, -4.7],\n",
    "            [-0.23, 1.9, 2.2],\n",
    "            [0.27, -0.3, -0.87],\n",
    "            [-1.9, 0.76, -2.1],\n",
    "            [0.87, -1.0, -2.6]])\n",
    "w1 = w1.T\n",
    "w2 = np.array([[-0.4, 0.58, 0.089],\n",
    "            [-0.31, 0.27, -0.04],\n",
    "            [0.38, 0.055, -0.035],\n",
    "            [-0.15, 0.53, 0.011],\n",
    "            [-0.35, 0.47, 0.034],\n",
    "            [0.17, 0.69, 0.1],\n",
    "            [-0.011, 0.55, -0.18],\n",
    "            [-0.27, 0.61, 0.12],\n",
    "            [-0.065, 0.49, 0.0012],\n",
    "            [-0.12, 0.054, -0.063]])\n",
    "w2 = w2.T"
   ]
  },
  {
   "cell_type": "code",
   "execution_count": 3,
   "metadata": {},
   "outputs": [],
   "source": [
    "def mean(data):\n",
    "    \"\"\"计算样本均值\n",
    "    Args:\n",
    "        data : 样本集\n",
    "    Returns:\n",
    "        样本均值\n",
    "    \"\"\"\n",
    "    u = data.mean(1)   \n",
    "    return u"
   ]
  },
  {
   "cell_type": "code",
   "execution_count": 4,
   "metadata": {},
   "outputs": [],
   "source": [
    "def sq_sigma(data, u):\n",
    "    \"\"\"最大似然估计的方差\n",
    "    Args:\n",
    "        data : 样本集\n",
    "        u : 样本均值\n",
    "    Returns:\n",
    "        方差\n",
    "    \"\"\"\n",
    "    # 使用numpy的boardcast机制，将样本集中所有的样本减去均值\n",
    "    res =(data.T - u).T\n",
    "    # 将矩阵中每个元素平方\n",
    "    res = res**2 \n",
    "    # 计算所有元素的和\n",
    "    res = np.sum(res)\n",
    "    # 除以样本数 n\n",
    "    res = res/data.shape[1]\n",
    "    return res"
   ]
  },
  {
   "cell_type": "code",
   "execution_count": 5,
   "metadata": {},
   "outputs": [],
   "source": [
    "def cov(data, u):\n",
    "    \"\"\"最大似然估计的协方差矩阵\n",
    "    Args:\n",
    "        data : 样本集\n",
    "        u : 样本均值\n",
    "    Returns:\n",
    "        协方差矩阵\n",
    "    \"\"\"\n",
    "    # 将样本集中所有的样本减去均值\n",
    "    res =(data.T - u).T\n",
    "    # 上面得到的矩阵与自身的转置计算点积\n",
    "    res =np.dot(res,res.T)\n",
    "    # 除以样本数 n\n",
    "    res = res/data.shape[1]\n",
    "    return res"
   ]
  },
  {
   "cell_type": "code",
   "execution_count": 6,
   "metadata": {},
   "outputs": [
    {
     "name": "stdout",
     "output_type": "stream",
     "text": [
      "特征x1最大似然估计的均值为-0.070900,方差为0.906177\n\n特征x2最大似然估计的均值为-0.604700,方差为4.200715\n\n特征x3最大似然估计的均值为-0.911000,方差为4.541949\n\n"
     ]
    }
   ],
   "source": [
    "# 第一问\n",
    "for i in range(3):\n",
    "    s = np.array([w1[i]])\n",
    "    u = mean(s)\n",
    "    sigma2 = sq_sigma(s, u)\n",
    "    print(\"特征x%d最大似然估计的均值为%f,方差为%f\\n\"%(i+1,u,sigma2))\n"
   ]
  },
  {
   "cell_type": "code",
   "execution_count": 7,
   "metadata": {},
   "outputs": [
    {
     "name": "stdout",
     "output_type": "stream",
     "text": [
      "特征x1和x2的最大似然估计的均值为:\n[-0.0709 -0.6047]\n协方差矩阵为:\n[[0.90617729 0.56778177]\n [0.56778177 4.20071481]]\n\n特征x1和x3的最大似然估计的均值为:\n[-0.0709 -0.911 ]\n协方差矩阵为:\n[[0.90617729 0.3940801 ]\n [0.3940801  4.541949  ]]\n\n特征x2和x3的最大似然估计的均值为:\n[-0.6047 -0.911 ]\n协方差矩阵为:\n[[4.20071481 0.7337023 ]\n [0.7337023  4.541949  ]]\n\n"
     ]
    }
   ],
   "source": [
    "# 第二问\n",
    "parms = [[0,1],[0,2],[1,2]]\n",
    "for i in range(3):\n",
    "    s = np.array([w1[parms[i][0]], w1[parms[i][1]]])\n",
    "    u = mean(s)\n",
    "    covM = cov(s, u)\n",
    "    print(\"特征x%d和x%d的最大似然估计的均值为:\"%(parms[i][0]+1,\n",
    "                                            parms[i][1]+1))\n",
    "    print(u)\n",
    "    print(\"协方差矩阵为:\")\n",
    "    print(covM)\n",
    "    print()"
   ]
  },
  {
   "cell_type": "code",
   "execution_count": 8,
   "metadata": {},
   "outputs": [
    {
     "name": "stdout",
     "output_type": "stream",
     "text": [
      "最大似然估计的均值为:\n[-0.0709 -0.6047 -0.911 ]\n协方差矩阵为:\n[[0.90617729 0.56778177 0.3940801 ]\n [0.56778177 4.20071481 0.7337023 ]\n [0.3940801  0.7337023  4.541949  ]]\n\n"
     ]
    }
   ],
   "source": [
    "# 第三问\n",
    "u = mean(w1)\n",
    "covM = cov(w1, u)\n",
    "print(\"最大似然估计的均值为:\")\n",
    "print(u)\n",
    "print(\"协方差矩阵为:\")\n",
    "print(covM)\n",
    "print()"
   ]
  },
  {
   "cell_type": "code",
   "execution_count": 13,
   "metadata": {},
   "outputs": [
    {
     "name": "stdout",
     "output_type": "stream",
     "text": [
      "协方差矩阵的参数为：\n0.05392584\n0.04597009\n0.0072655055999999996\nw2的均值为：\n[-0.1126   0.4299   0.00372]\n"
     ]
    }
   ],
   "source": [
    "# 第四问\n",
    "print(\"协方差矩阵的参数为：\")\n",
    "for i in range(3):\n",
    "    s = np.array([w2[i]])\n",
    "    u = mean(s)\n",
    "    sigma2 = sq_sigma(s, u)\n",
    "    print(sigma2)\n",
    "print(\"w2的均值为：\")\n",
    "print(mean(w2))"
   ]
  },
  {
   "cell_type": "code",
   "execution_count": 12,
   "metadata": {},
   "outputs": [
    {
     "name": "stdout",
     "output_type": "stream",
     "text": [
      "[[ 0.05392584 -0.01465126 -0.00517993]\n [-0.01465126  0.04597009  0.00850987]\n [-0.00517993  0.00850987  0.00726551]]\n"
     ]
    }
   ],
   "source": [
    ""
   ]
  },
  {
   "cell_type": "code",
   "execution_count": 10,
   "metadata": {},
   "outputs": [],
   "source": []
  },
  {
   "cell_type": "code",
   "execution_count": null,
   "metadata": {},
   "outputs": [],
   "source": []
  }
 ],
 "metadata": {
  "kernelspec": {
   "display_name": "Python 3",
   "language": "python",
   "name": "python3"
  },
  "language_info": {
   "codemirror_mode": {
    "name": "ipython",
    "version": 3
   },
   "file_extension": ".py",
   "mimetype": "text/x-python",
   "name": "python",
   "nbconvert_exporter": "python",
   "pygments_lexer": "ipython3",
   "version": "3.5.4"
  }
 },
 "nbformat": 4,
 "nbformat_minor": 1
}
