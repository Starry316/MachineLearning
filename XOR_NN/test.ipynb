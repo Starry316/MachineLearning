{
 "cells": [
  {
   "cell_type": "code",
   "execution_count": 3,
   "metadata": {
    "collapsed": true
   },
   "outputs": [],
   "source": [
    "import numpy as np\n"
   ]
  },
  {
   "cell_type": "code",
   "execution_count": 8,
   "metadata": {},
   "outputs": [],
   "source": [
    "def sigmoid(x):\n",
    "    res = 1+np.exp(-x)\n",
    "    return 1/res\n"
   ]
  },
  {
   "cell_type": "code",
   "execution_count": 9,
   "metadata": {},
   "outputs": [],
   "source": [
    "def sigmoid_derivative(x):\n",
    "    return np.exp(-x)/((1+np.exp(-x))**2)\n",
    "\n"
   ]
  },
  {
   "cell_type": "code",
   "execution_count": 64,
   "metadata": {},
   "outputs": [],
   "source": [
    "class Cell(object):\n",
    "    def __init__(self, d):\n",
    "        self.w = np.random.rand(d)\n",
    "        self.b = np.random.rand(1)\n",
    "        self.input = 0\n",
    "        self.output = 0\n",
    "        self.E = 0\n",
    "        self.old_w = self.w\n",
    "        \n",
    "    def front_pass(self, x):\n",
    "        self.input = x.flatten()\n",
    "        self.output = sigmoid(np.dot(self.w.T, x)+self.b)\n",
    "        return self.output\n",
    "    \n",
    "    def update_W(self, e):\n",
    "        self.old_w = self.w\n",
    "        # print(\" w\",self.w)\n",
    "        # print(\" lre\",lr * e)\n",
    "        self.w = self.w - lr * e\n",
    "        # print(\"updated w\",self.w)\n",
    "    \n",
    "    def bp_output(self, y):\n",
    "        deta = -(y - self.output)*self.output*(1-self.output)*self.input\n",
    "        self.E = -(y - self.output)*self.output*(1-self.output)\n",
    "        # l = []\n",
    "        # for i in deta:\n",
    "        #     l.append(i[0])\n",
    "        # deta = np.array(l)\n",
    "        # print(\"deta is\",deta)\n",
    "        self.update_W(deta)\n",
    "        return self.E\n",
    "        \n",
    "    def bp_hidden(self, es, w):\n",
    "        e_total = 0\n",
    "        for i in w:\n",
    "            for j in es:\n",
    "                e_total = e_total + i*j\n",
    "        self.E = e_total*self.output*(1-self.output)\n",
    "        deta = np.multiply(self.E, self.input)\n",
    "        self.update_W(deta)\n",
    "        return deta\n",
    "    \n",
    "        \n",
    "def L2_loss(y, yt):\n",
    "    return np.sum(np.square(y-yt))    \n",
    "    "
   ]
  },
  {
   "cell_type": "code",
   "execution_count": 54,
   "metadata": {},
   "outputs": [],
   "source": [
    "\n",
    "\n",
    "\n",
    "\n",
    "\n",
    "\n",
    "# x = np.array([0.05, 0.1])\n",
    "# oh1 = h1.front_pass(x)\n",
    "# oh2 = h2.front_pass(x)\n",
    "# \n",
    "# print(oh1, oh2)\n",
    "\n",
    "\n",
    "\n",
    "# x2 = np.array([oh1, oh2])\n",
    "# oo1 = o1.front_pass(x2)\n",
    "# oo2 = o2.front_pass(x2)\n",
    "# print(oo1, oo2)\n",
    "# yt = np.array([0.1, 0.99])\n",
    "# # bo1 = o1.bp_output(0.01)\n",
    "# # bo2 = o2.bp_output(0.99)\n",
    "# print(bo1,bo2)\n",
    "# es = np.array([0.13849856162855695, -0.038098236516556236])\n",
    "# w = np.array([o1.w[0],o2.w[0]])\n",
    "# bh1 = h1.bp_hidden(es,w)\n"
   ]
  },
  {
   "cell_type": "code",
   "execution_count": 55,
   "metadata": {},
   "outputs": [],
   "source": [
    "h1 = Cell(2)\n",
    "h2 = Cell(2)\n",
    "\n",
    "g1 = Cell(2)\n",
    "g2 = Cell(2)\n",
    "g3 = Cell(2)\n",
    "\n",
    "o1 = Cell(3)\n",
    "\n",
    "# layer1 = [h1, h2]\n",
    "# layer2 = [o1, o2]\n",
    "data = np.array([[0, 0],\n",
    "                [0, 1],\n",
    "                [1, 0],\n",
    "                [1, 1]])\n",
    "\n",
    "y = np.array([0,1,1,0])\n"
   ]
  },
  {
   "cell_type": "code",
   "execution_count": 60,
   "metadata": {},
   "outputs": [],
   "source": [
    "lr = 0.5"
   ]
  },
  {
   "cell_type": "code",
   "execution_count": null,
   "metadata": {},
   "outputs": [
    {
     "name": "stdout",
     "output_type": "stream",
     "text": [
      "iter 0 0.000000 loss is 0.000000\niter 0 0.995123 loss is 0.000024\niter 0 0.994881 loss is 0.000026\niter 0 0.006453 loss is 0.000042\n"
     ]
    },
    {
     "name": "stdout",
     "output_type": "stream",
     "text": [
      "iter 5000 0.000000 loss is 0.000000\niter 5000 0.995192 loss is 0.000023\niter 5000 0.994952 loss is 0.000025\niter 5000 0.006362 loss is 0.000040\n"
     ]
    },
    {
     "name": "stdout",
     "output_type": "stream",
     "text": [
      "iter 10000 0.000000 loss is 0.000000\niter 10000 0.995257 loss is 0.000022\niter 10000 0.995021 loss is 0.000025\niter 10000 0.006274 loss is 0.000039\n"
     ]
    },
    {
     "name": "stdout",
     "output_type": "stream",
     "text": [
      "iter 15000 0.000000 loss is 0.000000\niter 15000 0.995320 loss is 0.000022\niter 15000 0.995088 loss is 0.000024\niter 15000 0.006190 loss is 0.000038\n"
     ]
    },
    {
     "name": "stdout",
     "output_type": "stream",
     "text": [
      "iter 20000 0.000000 loss is 0.000000\niter 20000 0.995381 loss is 0.000021\niter 20000 0.995151 loss is 0.000024\niter 20000 0.006109 loss is 0.000037\n"
     ]
    },
    {
     "name": "stdout",
     "output_type": "stream",
     "text": [
      "iter 25000 0.000000 loss is 0.000000\niter 25000 0.995440 loss is 0.000021\niter 25000 0.995213 loss is 0.000023\niter 25000 0.006031 loss is 0.000036\n"
     ]
    },
    {
     "name": "stdout",
     "output_type": "stream",
     "text": [
      "iter 30000 0.000000 loss is 0.000000\niter 30000 0.995496 loss is 0.000020\niter 30000 0.995272 loss is 0.000022\niter 30000 0.005955 loss is 0.000035\n"
     ]
    },
    {
     "name": "stdout",
     "output_type": "stream",
     "text": [
      "iter 35000 0.000000 loss is 0.000000\niter 35000 0.995551 loss is 0.000020\niter 35000 0.995330 loss is 0.000022\niter 35000 0.005882 loss is 0.000035\n"
     ]
    },
    {
     "name": "stdout",
     "output_type": "stream",
     "text": [
      "iter 40000 0.000000 loss is 0.000000\niter 40000 0.995604 loss is 0.000019\niter 40000 0.995385 loss is 0.000021\niter 40000 0.005812 loss is 0.000034\n"
     ]
    },
    {
     "name": "stdout",
     "output_type": "stream",
     "text": [
      "iter 45000 0.000000 loss is 0.000000\niter 45000 0.995655 loss is 0.000019\niter 45000 0.995439 loss is 0.000021\niter 45000 0.005744 loss is 0.000033\n"
     ]
    },
    {
     "name": "stdout",
     "output_type": "stream",
     "text": [
      "iter 50000 0.000000 loss is 0.000000\niter 50000 0.995704 loss is 0.000018\niter 50000 0.995491 loss is 0.000020\niter 50000 0.005678 loss is 0.000032\n"
     ]
    },
    {
     "name": "stdout",
     "output_type": "stream",
     "text": [
      "iter 55000 0.000000 loss is 0.000000\niter 55000 0.995752 loss is 0.000018\niter 55000 0.995541 loss is 0.000020\niter 55000 0.005615 loss is 0.000032\n"
     ]
    },
    {
     "name": "stdout",
     "output_type": "stream",
     "text": [
      "iter 60000 0.000000 loss is 0.000000\niter 60000 0.995798 loss is 0.000018\niter 60000 0.995589 loss is 0.000019\niter 60000 0.005553 loss is 0.000031\n"
     ]
    },
    {
     "name": "stdout",
     "output_type": "stream",
     "text": [
      "iter 65000 0.000000 loss is 0.000000\niter 65000 0.995843 loss is 0.000017\niter 65000 0.995637 loss is 0.000019\niter 65000 0.005493 loss is 0.000030\n"
     ]
    },
    {
     "name": "stdout",
     "output_type": "stream",
     "text": [
      "iter 70000 0.000000 loss is 0.000000\niter 70000 0.995887 loss is 0.000017\niter 70000 0.995682 loss is 0.000019\niter 70000 0.005435 loss is 0.000030\n"
     ]
    },
    {
     "name": "stdout",
     "output_type": "stream",
     "text": [
      "iter 75000 0.000000 loss is 0.000000\niter 75000 0.995929 loss is 0.000017\niter 75000 0.995727 loss is 0.000018\niter 75000 0.005378 loss is 0.000029\n"
     ]
    },
    {
     "name": "stdout",
     "output_type": "stream",
     "text": [
      "iter 80000 0.000000 loss is 0.000000\niter 80000 0.995970 loss is 0.000016\niter 80000 0.995770 loss is 0.000018\niter 80000 0.005324 loss is 0.000028\n"
     ]
    },
    {
     "name": "stdout",
     "output_type": "stream",
     "text": [
      "iter 85000 0.000000 loss is 0.000000\niter 85000 0.996010 loss is 0.000016\niter 85000 0.995812 loss is 0.000018\niter 85000 0.005271 loss is 0.000028\n"
     ]
    },
    {
     "name": "stdout",
     "output_type": "stream",
     "text": [
      "iter 90000 0.000000 loss is 0.000000\niter 90000 0.996049 loss is 0.000016\niter 90000 0.995853 loss is 0.000017\niter 90000 0.005219 loss is 0.000027\n"
     ]
    },
    {
     "name": "stdout",
     "output_type": "stream",
     "text": [
      "iter 95000 0.000000 loss is 0.000000\niter 95000 0.996087 loss is 0.000015\niter 95000 0.995893 loss is 0.000017\niter 95000 0.005168 loss is 0.000027\n"
     ]
    }
   ],
   "source": [
    "for j in range(100000):\n",
    "    for i in range(4):\n",
    "        oh1 = h1.front_pass(data[i])\n",
    "        oh2 = h2.front_pass(data[i])\n",
    "        \n",
    "        x1 = np.array([oh1, oh2])\n",
    "        # print(\"x1\",x1)\n",
    "        og1 = g1.front_pass(x1)\n",
    "        og2 = g2.front_pass(x1)\n",
    "        og3 = g3.front_pass(x1)\n",
    "   \n",
    "        x2 = np.array([og1, og2, og3])\n",
    "        # print(\"x2\",x2)\n",
    "        oo1 = o1.front_pass(x2)\n",
    "       \n",
    "        if j % 5000 == 0:\n",
    "            print(\"iter %d %f loss is %f\"%(j,oo1,L2_loss(oo1, y[i])))\n",
    "\n",
    "        oe1 = o1.bp_output(y[i])\n",
    "        \n",
    "        \n",
    "        # Es = np.array(e1)\n",
    "        \n",
    "        ge1 = g1.bp_hidden(oe1,[o1.old_w[0]])\n",
    "        ge2 = g2.bp_hidden(oe1,[o1.old_w[1]])\n",
    "        ge3 = g3.bp_hidden(oe1,[o1.old_w[2]])\n",
    "        \n",
    "        ge = [ge1,ge2,ge3]\n",
    "        w1 = [g1.old_w[0],g2.old_w[0],g3.old_w[0]]\n",
    "        w2 = [g1.old_w[1],g2.old_w[1],g3.old_w[1]]\n",
    "        he1 = h1.bp_hidden(ge, w1)\n",
    "        he2 = h2.bp_hidden(ge, w2)"
   ]
  },
  {
   "cell_type": "code",
   "execution_count": 62,
   "metadata": {},
   "outputs": [
    {
     "ename": "AttributeError",
     "evalue": "'list' object has no attribute 'flatten'",
     "traceback": [
      "\u001b[0;31m---------------------------------------------------------------------------\u001b[0m",
      "\u001b[0;31mAttributeError\u001b[0m                            Traceback (most recent call last)",
      "\u001b[0;32m<ipython-input-62-a488afb49c17>\u001b[0m in \u001b[0;36m<module>\u001b[0;34m()\u001b[0m\n\u001b[1;32m      1\u001b[0m \u001b[0;34m\u001b[0m\u001b[0m\n\u001b[0;32m----> 2\u001b[0;31m \u001b[0moh1\u001b[0m \u001b[0;34m=\u001b[0m \u001b[0mh1\u001b[0m\u001b[0;34m.\u001b[0m\u001b[0mfront_pass\u001b[0m\u001b[0;34m(\u001b[0m\u001b[0;34m[\u001b[0m\u001b[0;36m1\u001b[0m\u001b[0;34m,\u001b[0m\u001b[0;36m1\u001b[0m\u001b[0;34m]\u001b[0m\u001b[0;34m)\u001b[0m\u001b[0;34m\u001b[0m\u001b[0m\n\u001b[0m\u001b[1;32m      3\u001b[0m \u001b[0moh2\u001b[0m \u001b[0;34m=\u001b[0m \u001b[0mh2\u001b[0m\u001b[0;34m.\u001b[0m\u001b[0mfront_pass\u001b[0m\u001b[0;34m(\u001b[0m\u001b[0;34m[\u001b[0m\u001b[0;36m1\u001b[0m\u001b[0;34m,\u001b[0m\u001b[0;36m1\u001b[0m\u001b[0;34m]\u001b[0m\u001b[0;34m)\u001b[0m\u001b[0;34m\u001b[0m\u001b[0m\n\u001b[1;32m      4\u001b[0m \u001b[0mx1\u001b[0m \u001b[0;34m=\u001b[0m \u001b[0mnp\u001b[0m\u001b[0;34m.\u001b[0m\u001b[0marray\u001b[0m\u001b[0;34m(\u001b[0m\u001b[0;34m[\u001b[0m\u001b[0moh1\u001b[0m\u001b[0;34m,\u001b[0m \u001b[0moh2\u001b[0m\u001b[0;34m]\u001b[0m\u001b[0;34m)\u001b[0m\u001b[0;34m\u001b[0m\u001b[0m\n\u001b[1;32m      5\u001b[0m \u001b[0moo1\u001b[0m \u001b[0;34m=\u001b[0m \u001b[0mo1\u001b[0m\u001b[0;34m.\u001b[0m\u001b[0mfront_pass\u001b[0m\u001b[0;34m(\u001b[0m\u001b[0mx1\u001b[0m\u001b[0;34m)\u001b[0m\u001b[0;34m\u001b[0m\u001b[0m\n",
      "\u001b[0;32m<ipython-input-53-92b900dd3925>\u001b[0m in \u001b[0;36mfront_pass\u001b[0;34m(self, x)\u001b[0m\n\u001b[1;32m      9\u001b[0m \u001b[0;34m\u001b[0m\u001b[0m\n\u001b[1;32m     10\u001b[0m     \u001b[0;32mdef\u001b[0m \u001b[0mfront_pass\u001b[0m\u001b[0;34m(\u001b[0m\u001b[0mself\u001b[0m\u001b[0;34m,\u001b[0m \u001b[0mx\u001b[0m\u001b[0;34m)\u001b[0m\u001b[0;34m:\u001b[0m\u001b[0;34m\u001b[0m\u001b[0m\n\u001b[0;32m---> 11\u001b[0;31m         \u001b[0mself\u001b[0m\u001b[0;34m.\u001b[0m\u001b[0minput\u001b[0m \u001b[0;34m=\u001b[0m \u001b[0mx\u001b[0m\u001b[0;34m.\u001b[0m\u001b[0mflatten\u001b[0m\u001b[0;34m(\u001b[0m\u001b[0;34m)\u001b[0m\u001b[0;34m\u001b[0m\u001b[0m\n\u001b[0m\u001b[1;32m     12\u001b[0m         \u001b[0mself\u001b[0m\u001b[0;34m.\u001b[0m\u001b[0moutput\u001b[0m \u001b[0;34m=\u001b[0m \u001b[0msigmoid\u001b[0m\u001b[0;34m(\u001b[0m\u001b[0mnp\u001b[0m\u001b[0;34m.\u001b[0m\u001b[0mdot\u001b[0m\u001b[0;34m(\u001b[0m\u001b[0mself\u001b[0m\u001b[0;34m.\u001b[0m\u001b[0mw\u001b[0m\u001b[0;34m.\u001b[0m\u001b[0mT\u001b[0m\u001b[0;34m,\u001b[0m \u001b[0mx\u001b[0m\u001b[0;34m)\u001b[0m\u001b[0;34m+\u001b[0m\u001b[0mself\u001b[0m\u001b[0;34m.\u001b[0m\u001b[0mb\u001b[0m\u001b[0;34m)\u001b[0m\u001b[0;34m\u001b[0m\u001b[0m\n\u001b[1;32m     13\u001b[0m         \u001b[0;32mreturn\u001b[0m \u001b[0mself\u001b[0m\u001b[0;34m.\u001b[0m\u001b[0moutput\u001b[0m\u001b[0;34m\u001b[0m\u001b[0m\n",
      "\u001b[0;31mAttributeError\u001b[0m: 'list' object has no attribute 'flatten'"
     ],
     "output_type": "error"
    }
   ],
   "source": [
    "\n",
    "oh1 = h1.front_pass([1,1])\n",
    "oh2 = h2.front_pass([1,1])\n",
    "x1 = np.array([oh1, oh2])\n",
    "oo1 = o1.front_pass(x1)\n",
    "print(oo1)"
   ]
  },
  {
   "cell_type": "code",
   "execution_count": 192,
   "metadata": {},
   "outputs": [
    {
     "data": {
      "text/plain": [
       "array([0.02919425, 0.10295491])"
      ]
     },
     "execution_count": 192,
     "metadata": {},
     "output_type": "execute_result"
    }
   ],
   "source": [
    "a= np.array([0.13368585])\n",
    "b= np.array([[0.21837952,0.77012573]])\n",
    "np.dot(b.T,a)"
   ]
  },
  {
   "cell_type": "code",
   "execution_count": null,
   "metadata": {},
   "outputs": [],
   "source": []
  }
 ],
 "metadata": {
  "kernelspec": {
   "display_name": "Python 2",
   "language": "python",
   "name": "python2"
  },
  "language_info": {
   "codemirror_mode": {
    "name": "ipython",
    "version": 2
   },
   "file_extension": ".py",
   "mimetype": "text/x-python",
   "name": "python",
   "nbconvert_exporter": "python",
   "pygments_lexer": "ipython2",
   "version": "2.7.6"
  }
 },
 "nbformat": 4,
 "nbformat_minor": 0
}
