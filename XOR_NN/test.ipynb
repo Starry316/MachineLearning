{
 "cells": [
  {
   "cell_type": "code",
   "execution_count": 1,
   "metadata": {
    "collapsed": true
   },
   "outputs": [],
   "source": [
    "import numpy as np\n",
    "\n",
    "\n",
    "def sigmoid(x):\n",
    "    res = 1+np.exp(-x)\n",
    "    return 1/res\n",
    "\n",
    "\n",
    "def sigmoid_derivative(x):\n",
    "    return np.exp(-x)/((1+np.exp(-x))**2)\n",
    "\n",
    "\n",
    "def L2_loss(y, yt):\n",
    "    y.flatten()\n",
    "    return 0.5*np.sum(np.square(y-yt))    \n",
    "lr = 0.1\n"
   ]
  },
  {
   "cell_type": "code",
   "execution_count": 2,
   "metadata": {},
   "outputs": [],
   "source": [
    "class Layer(object):\n",
    "    # n 是神经元个数 d 是神经元维数\n",
    "    def __init__(self, n, d):\n",
    "        # 初始化n个d维的神经元 即d X n的矩阵\n",
    "        self.w = np.random.random((d, n))\n",
    "        self.b = np.random.random((n, 1))\n",
    "        self.output = 0\n",
    "        self.d = d\n",
    "        self.deta = 0\n",
    "        self.input = 0\n",
    "        \n",
    "    def forward_propagation(self, x):\n",
    "        # 前向传播 \n",
    "        self.input = x\n",
    "       \n",
    "        # print(\"w\", self.w.T) \n",
    "        # print(\"x\" , x)\n",
    "        # print(np.dot( self.w.T,x))\n",
    "        # print(\"b\" , self.b)\n",
    "        self.output = sigmoid(np.dot( self.w.T,x)+self.b).T\n",
    "        return self.output\n",
    "    \n",
    "    def back_propagation_output(self, y):\n",
    "        # 输出层的后向传播 y的维度应该为d\n",
    "        self.deta = -(y - self.output)*self.output*(1-self.output)\n",
    "        self.update_w(self.deta)\n",
    "        return self.deta\n",
    "    \n",
    "    def update_w(self, deta):\n",
    "        self.w = self.w - deta*lr*self.input\n",
    "    \n",
    "    def back_propagation_hidden(self, next_deta, next_w, debug =0):\n",
    "        self.deta = np.dot(next_deta, next_w.T)*self.output*(1-self.output)\n",
    "        self.update_w(self.deta)\n",
    "        return self.deta\n",
    "    \n"
   ]
  },
  {
   "cell_type": "code",
   "execution_count": 3,
   "metadata": {},
   "outputs": [],
   "source": [
    "def train(iter_num, layers, data, y, data_size=60000, lr = 1, show_num = 500):\n",
    "    loss = 0\n",
    "    for j in range(iter_num):\n",
    "        # 现在没有对inputdata做封装\n",
    "        for i in range(len(layers)):\n",
    "            if i == 0:\n",
    "                fp_res = layers[i].forward_propagation(\n",
    "                    np.array([data[j%data_size]]).T)\n",
    "            else:\n",
    "                fp_res = layers[i].forward_propagation(fp_res.T)\n",
    "    \n",
    "            if i == len(layers)-1:\n",
    "                loss = loss+L2_loss(fp_res, y[j % data_size])\n",
    "                if j % show_num == 0 :\n",
    "                    print(\"iter %d loss is %f test accuracy is %f\" % (j, loss/show_num,test_in_train(layers, testm, test_labels)))\n",
    "                    loss = 0\n",
    "                    # print(\"test accuracy is %f\" % (test_in_train(layers, testm, test_labels)))\n",
    "        for i in range(len(layers)):\n",
    "            if i == 0:\n",
    "                bp_res = layers[len(layers)-i-1].back_propagation_output(y[j % data_size])\n",
    "            else:\n",
    "                bp_res = layers[len(layers)-i-1].back_propagation_hidden(bp_res, layers[len(layers)-i].w)\n",
    "            "
   ]
  },
  {
   "cell_type": "code",
   "execution_count": 11,
   "metadata": {},
   "outputs": [],
   "source": [
    "layer1 = Layer(28, 784)\n",
    "layer2 = Layer(28, 28)\n",
    "layer3 = Layer(28, 28)\n",
    "layer4 = Layer(10, 28)\n",
    "net = [layer1,layer2,layer3,layer4]\n"
   ]
  },
  {
   "cell_type": "code",
   "execution_count": 12,
   "metadata": {},
   "outputs": [
    {
     "name": "stdout",
     "output_type": "stream",
     "text": [
      "iter 0 loss is 0.000075 test accuracy is 0.089200\n"
     ]
    },
    {
     "name": "stdout",
     "output_type": "stream",
     "text": [
      "iter 60000 loss is 4.499990 test accuracy is 0.089200\n"
     ]
    },
    {
     "name": "stdout",
     "output_type": "stream",
     "text": [
      "iter 120000 loss is 4.350235 test accuracy is 0.089200\n"
     ]
    },
    {
     "name": "stdout",
     "output_type": "stream",
     "text": [
      "iter 180000 loss is 4.094763 test accuracy is 0.089200\n"
     ]
    },
    {
     "name": "stdout",
     "output_type": "stream",
     "text": [
      "iter 240000 loss is 4.094762 test accuracy is 0.089200\n"
     ]
    },
    {
     "name": "stdout",
     "output_type": "stream",
     "text": [
      "iter 300000 loss is 4.094760 test accuracy is 0.089200\n"
     ]
    },
    {
     "name": "stdout",
     "output_type": "stream",
     "text": [
      "iter 360000 loss is 4.094756 test accuracy is 0.089200\n"
     ]
    },
    {
     "name": "stdout",
     "output_type": "stream",
     "text": [
      "iter 420000 loss is 4.094745 test accuracy is 0.089200\n"
     ]
    },
    {
     "name": "stdout",
     "output_type": "stream",
     "text": [
      "iter 480000 loss is 3.630363 test accuracy is 0.089200\n"
     ]
    },
    {
     "name": "stdout",
     "output_type": "stream",
     "text": [
      "iter 540000 loss is 2.943211 test accuracy is 0.089200\n"
     ]
    },
    {
     "name": "stdout",
     "output_type": "stream",
     "text": [
      "iter 600000 loss is 2.600240 test accuracy is 0.089200\n"
     ]
    },
    {
     "name": "stdout",
     "output_type": "stream",
     "text": [
      "iter 660000 loss is 2.067951 test accuracy is 0.089200\n"
     ]
    },
    {
     "name": "stdout",
     "output_type": "stream",
     "text": [
      "iter 720000 loss is 2.067950 test accuracy is 0.089200\n"
     ]
    },
    {
     "name": "stdout",
     "output_type": "stream",
     "text": [
      "iter 780000 loss is 2.067949 test accuracy is 0.089200\n"
     ]
    },
    {
     "name": "stdout",
     "output_type": "stream",
     "text": [
      "iter 840000 loss is 2.067946 test accuracy is 0.089200\n"
     ]
    },
    {
     "name": "stdout",
     "output_type": "stream",
     "text": [
      "iter 900000 loss is 1.943951 test accuracy is 0.089200\n"
     ]
    },
    {
     "name": "stdout",
     "output_type": "stream",
     "text": [
      "iter 960000 loss is 1.674782 test accuracy is 0.089200\n"
     ]
    },
    {
     "name": "stdout",
     "output_type": "stream",
     "text": [
      "iter 1020000 loss is 1.674782 test accuracy is 0.089200\n"
     ]
    },
    {
     "name": "stdout",
     "output_type": "stream",
     "text": [
      "iter 1080000 loss is 1.674781 test accuracy is 0.089200\n"
     ]
    },
    {
     "name": "stdout",
     "output_type": "stream",
     "text": [
      "iter 1140000 loss is 1.674781 test accuracy is 0.089200\n"
     ]
    },
    {
     "name": "stdout",
     "output_type": "stream",
     "text": [
      "iter 1200000 loss is 1.674781 test accuracy is 0.089200\n"
     ]
    },
    {
     "name": "stdout",
     "output_type": "stream",
     "text": [
      "iter 1260000 loss is 1.674780 test accuracy is 0.089200\n"
     ]
    },
    {
     "name": "stdout",
     "output_type": "stream",
     "text": [
      "iter 1320000 loss is 1.674779 test accuracy is 0.089200\n"
     ]
    },
    {
     "name": "stdout",
     "output_type": "stream",
     "text": [
      "iter 1380000 loss is 1.674776 test accuracy is 0.089200\n"
     ]
    },
    {
     "name": "stdout",
     "output_type": "stream",
     "text": [
      "iter 1440000 loss is 1.517249 test accuracy is 0.089200\n"
     ]
    },
    {
     "name": "stdout",
     "output_type": "stream",
     "text": [
      "iter 1500000 loss is 1.269094 test accuracy is 0.089200\n"
     ]
    },
    {
     "name": "stdout",
     "output_type": "stream",
     "text": [
      "iter 1560000 loss is 1.269093 test accuracy is 0.089200\n"
     ]
    },
    {
     "name": "stdout",
     "output_type": "stream",
     "text": [
      "iter 1620000 loss is 1.269088 test accuracy is 0.089200\n"
     ]
    },
    {
     "name": "stdout",
     "output_type": "stream",
     "text": [
      "iter 1680000 loss is 0.999658 test accuracy is 0.089200\n"
     ]
    },
    {
     "name": "stdout",
     "output_type": "stream",
     "text": [
      "iter 1740000 loss is 0.868671 test accuracy is 0.089200\n"
     ]
    },
    {
     "name": "stdout",
     "output_type": "stream",
     "text": [
      "iter 1800000 loss is 0.868671 test accuracy is 0.089200\n"
     ]
    },
    {
     "name": "stdout",
     "output_type": "stream",
     "text": [
      "iter 1860000 loss is 0.868671 test accuracy is 0.089200\n"
     ]
    },
    {
     "name": "stdout",
     "output_type": "stream",
     "text": [
      "iter 1920000 loss is 0.868671 test accuracy is 0.089200\n"
     ]
    },
    {
     "name": "stdout",
     "output_type": "stream",
     "text": [
      "iter 1980000 loss is 0.868671 test accuracy is 0.089200\n"
     ]
    },
    {
     "name": "stdout",
     "output_type": "stream",
     "text": [
      "iter 2040000 loss is 0.868671 test accuracy is 0.089200\n"
     ]
    },
    {
     "name": "stdout",
     "output_type": "stream",
     "text": [
      "iter 2100000 loss is 0.868671 test accuracy is 0.089200\n"
     ]
    },
    {
     "name": "stdout",
     "output_type": "stream",
     "text": [
      "iter 2160000 loss is 0.868671 test accuracy is 0.089200\n"
     ]
    },
    {
     "name": "stdout",
     "output_type": "stream",
     "text": [
      "iter 2220000 loss is 0.868671 test accuracy is 0.089200\n"
     ]
    },
    {
     "name": "stdout",
     "output_type": "stream",
     "text": [
      "iter 2280000 loss is 0.868671 test accuracy is 0.089200\n"
     ]
    },
    {
     "name": "stdout",
     "output_type": "stream",
     "text": [
      "iter 2340000 loss is 0.868671 test accuracy is 0.089200\n"
     ]
    },
    {
     "name": "stdout",
     "output_type": "stream",
     "text": [
      "iter 2400000 loss is 0.868671 test accuracy is 0.089200\n"
     ]
    },
    {
     "name": "stdout",
     "output_type": "stream",
     "text": [
      "iter 2460000 loss is 0.868671 test accuracy is 0.089200\n"
     ]
    },
    {
     "name": "stdout",
     "output_type": "stream",
     "text": [
      "iter 2520000 loss is 0.868671 test accuracy is 0.089200\n"
     ]
    },
    {
     "name": "stdout",
     "output_type": "stream",
     "text": [
      "iter 2580000 loss is 0.868671 test accuracy is 0.089200\n"
     ]
    },
    {
     "name": "stdout",
     "output_type": "stream",
     "text": [
      "iter 2640000 loss is 0.868671 test accuracy is 0.089200\n"
     ]
    },
    {
     "name": "stdout",
     "output_type": "stream",
     "text": [
      "iter 2700000 loss is 0.868671 test accuracy is 0.089200\n"
     ]
    },
    {
     "name": "stdout",
     "output_type": "stream",
     "text": [
      "iter 2760000 loss is 0.868671 test accuracy is 0.089200\n"
     ]
    },
    {
     "name": "stdout",
     "output_type": "stream",
     "text": [
      "iter 2820000 loss is 0.868671 test accuracy is 0.089200\n"
     ]
    },
    {
     "name": "stdout",
     "output_type": "stream",
     "text": [
      "iter 2880000 loss is 0.868671 test accuracy is 0.089200\n"
     ]
    },
    {
     "name": "stdout",
     "output_type": "stream",
     "text": [
      "iter 2940000 loss is 0.868671 test accuracy is 0.089200\n"
     ]
    },
    {
     "name": "stdout",
     "output_type": "stream",
     "text": [
      "iter 3000000 loss is 0.868671 test accuracy is 0.089200\n"
     ]
    },
    {
     "ename": "KeyboardInterrupt",
     "evalue": "",
     "traceback": [
      "\u001b[0;31m---------------------------------------------------------------------------\u001b[0m",
      "\u001b[0;31mKeyboardInterrupt\u001b[0m                         Traceback (most recent call last)",
      "\u001b[0;32m<ipython-input-12-7ed3f3b4547e>\u001b[0m in \u001b[0;36m<module>\u001b[0;34m()\u001b[0m\n\u001b[1;32m      1\u001b[0m \u001b[0mlr\u001b[0m \u001b[0;34m=\u001b[0m \u001b[0;36m0.1\u001b[0m\u001b[0;34m\u001b[0m\u001b[0m\n\u001b[0;32m----> 2\u001b[0;31m \u001b[0mtrain\u001b[0m\u001b[0;34m(\u001b[0m\u001b[0;36m12000000\u001b[0m\u001b[0;34m,\u001b[0m \u001b[0mnet\u001b[0m\u001b[0;34m,\u001b[0m\u001b[0mtrain_images\u001b[0m\u001b[0;34m,\u001b[0m\u001b[0my\u001b[0m\u001b[0;34m,\u001b[0m\u001b[0mshow_num\u001b[0m\u001b[0;34m=\u001b[0m\u001b[0;36m60000\u001b[0m\u001b[0;34m)\u001b[0m\u001b[0;34m\u001b[0m\u001b[0m\n\u001b[0m",
      "\u001b[0;32m<ipython-input-3-3a8a7fab3f6c>\u001b[0m in \u001b[0;36mtrain\u001b[0;34m(iter_num, layers, data, y, data_size, lr, show_num)\u001b[0m\n\u001b[1;32m     20\u001b[0m                 \u001b[0mbp_res\u001b[0m \u001b[0;34m=\u001b[0m \u001b[0mlayers\u001b[0m\u001b[0;34m[\u001b[0m\u001b[0mlen\u001b[0m\u001b[0;34m(\u001b[0m\u001b[0mlayers\u001b[0m\u001b[0;34m)\u001b[0m\u001b[0;34m-\u001b[0m\u001b[0mi\u001b[0m\u001b[0;34m-\u001b[0m\u001b[0;36m1\u001b[0m\u001b[0;34m]\u001b[0m\u001b[0;34m.\u001b[0m\u001b[0mback_propagation_output\u001b[0m\u001b[0;34m(\u001b[0m\u001b[0my\u001b[0m\u001b[0;34m[\u001b[0m\u001b[0mj\u001b[0m \u001b[0;34m%\u001b[0m \u001b[0mdata_size\u001b[0m\u001b[0;34m]\u001b[0m\u001b[0;34m)\u001b[0m\u001b[0;34m\u001b[0m\u001b[0m\n\u001b[1;32m     21\u001b[0m             \u001b[0;32melse\u001b[0m\u001b[0;34m:\u001b[0m\u001b[0;34m\u001b[0m\u001b[0m\n\u001b[0;32m---> 22\u001b[0;31m                 \u001b[0mbp_res\u001b[0m \u001b[0;34m=\u001b[0m \u001b[0mlayers\u001b[0m\u001b[0;34m[\u001b[0m\u001b[0mlen\u001b[0m\u001b[0;34m(\u001b[0m\u001b[0mlayers\u001b[0m\u001b[0;34m)\u001b[0m\u001b[0;34m-\u001b[0m\u001b[0mi\u001b[0m\u001b[0;34m-\u001b[0m\u001b[0;36m1\u001b[0m\u001b[0;34m]\u001b[0m\u001b[0;34m.\u001b[0m\u001b[0mback_propagation_hidden\u001b[0m\u001b[0;34m(\u001b[0m\u001b[0mbp_res\u001b[0m\u001b[0;34m,\u001b[0m \u001b[0mlayers\u001b[0m\u001b[0;34m[\u001b[0m\u001b[0mlen\u001b[0m\u001b[0;34m(\u001b[0m\u001b[0mlayers\u001b[0m\u001b[0;34m)\u001b[0m\u001b[0;34m-\u001b[0m\u001b[0mi\u001b[0m\u001b[0;34m]\u001b[0m\u001b[0;34m.\u001b[0m\u001b[0mw\u001b[0m\u001b[0;34m)\u001b[0m\u001b[0;34m\u001b[0m\u001b[0m\n\u001b[0m\u001b[1;32m     23\u001b[0m \u001b[0;34m\u001b[0m\u001b[0m\n",
      "\u001b[0;32m<ipython-input-2-f4554e38583c>\u001b[0m in \u001b[0;36mback_propagation_hidden\u001b[0;34m(self, next_deta, next_w, debug)\u001b[0m\n\u001b[1;32m     32\u001b[0m     \u001b[0;32mdef\u001b[0m \u001b[0mback_propagation_hidden\u001b[0m\u001b[0;34m(\u001b[0m\u001b[0mself\u001b[0m\u001b[0;34m,\u001b[0m \u001b[0mnext_deta\u001b[0m\u001b[0;34m,\u001b[0m \u001b[0mnext_w\u001b[0m\u001b[0;34m,\u001b[0m \u001b[0mdebug\u001b[0m \u001b[0;34m=\u001b[0m\u001b[0;36m0\u001b[0m\u001b[0;34m)\u001b[0m\u001b[0;34m:\u001b[0m\u001b[0;34m\u001b[0m\u001b[0m\n\u001b[1;32m     33\u001b[0m         \u001b[0mself\u001b[0m\u001b[0;34m.\u001b[0m\u001b[0mdeta\u001b[0m \u001b[0;34m=\u001b[0m \u001b[0mnp\u001b[0m\u001b[0;34m.\u001b[0m\u001b[0mdot\u001b[0m\u001b[0;34m(\u001b[0m\u001b[0mnext_deta\u001b[0m\u001b[0;34m,\u001b[0m \u001b[0mnext_w\u001b[0m\u001b[0;34m.\u001b[0m\u001b[0mT\u001b[0m\u001b[0;34m)\u001b[0m\u001b[0;34m*\u001b[0m\u001b[0mself\u001b[0m\u001b[0;34m.\u001b[0m\u001b[0moutput\u001b[0m\u001b[0;34m*\u001b[0m\u001b[0;34m(\u001b[0m\u001b[0;36m1\u001b[0m\u001b[0;34m-\u001b[0m\u001b[0mself\u001b[0m\u001b[0;34m.\u001b[0m\u001b[0moutput\u001b[0m\u001b[0;34m)\u001b[0m\u001b[0;34m\u001b[0m\u001b[0m\n\u001b[0;32m---> 34\u001b[0;31m         \u001b[0mself\u001b[0m\u001b[0;34m.\u001b[0m\u001b[0mupdate_w\u001b[0m\u001b[0;34m(\u001b[0m\u001b[0mself\u001b[0m\u001b[0;34m.\u001b[0m\u001b[0mdeta\u001b[0m\u001b[0;34m)\u001b[0m\u001b[0;34m\u001b[0m\u001b[0m\n\u001b[0m\u001b[1;32m     35\u001b[0m         \u001b[0;32mreturn\u001b[0m \u001b[0mself\u001b[0m\u001b[0;34m.\u001b[0m\u001b[0mdeta\u001b[0m\u001b[0;34m\u001b[0m\u001b[0m\n\u001b[1;32m     36\u001b[0m \u001b[0;34m\u001b[0m\u001b[0m\n",
      "\u001b[0;32m<ipython-input-2-f4554e38583c>\u001b[0m in \u001b[0;36mupdate_w\u001b[0;34m(self, deta)\u001b[0m\n\u001b[1;32m     28\u001b[0m \u001b[0;34m\u001b[0m\u001b[0m\n\u001b[1;32m     29\u001b[0m     \u001b[0;32mdef\u001b[0m \u001b[0mupdate_w\u001b[0m\u001b[0;34m(\u001b[0m\u001b[0mself\u001b[0m\u001b[0;34m,\u001b[0m \u001b[0mdeta\u001b[0m\u001b[0;34m)\u001b[0m\u001b[0;34m:\u001b[0m\u001b[0;34m\u001b[0m\u001b[0m\n\u001b[0;32m---> 30\u001b[0;31m         \u001b[0mself\u001b[0m\u001b[0;34m.\u001b[0m\u001b[0mw\u001b[0m \u001b[0;34m=\u001b[0m \u001b[0mself\u001b[0m\u001b[0;34m.\u001b[0m\u001b[0mw\u001b[0m \u001b[0;34m-\u001b[0m \u001b[0mdeta\u001b[0m\u001b[0;34m*\u001b[0m\u001b[0mlr\u001b[0m\u001b[0;34m*\u001b[0m\u001b[0mself\u001b[0m\u001b[0;34m.\u001b[0m\u001b[0minput\u001b[0m\u001b[0;34m\u001b[0m\u001b[0m\n\u001b[0m\u001b[1;32m     31\u001b[0m \u001b[0;34m\u001b[0m\u001b[0m\n\u001b[1;32m     32\u001b[0m     \u001b[0;32mdef\u001b[0m \u001b[0mback_propagation_hidden\u001b[0m\u001b[0;34m(\u001b[0m\u001b[0mself\u001b[0m\u001b[0;34m,\u001b[0m \u001b[0mnext_deta\u001b[0m\u001b[0;34m,\u001b[0m \u001b[0mnext_w\u001b[0m\u001b[0;34m,\u001b[0m \u001b[0mdebug\u001b[0m \u001b[0;34m=\u001b[0m\u001b[0;36m0\u001b[0m\u001b[0;34m)\u001b[0m\u001b[0;34m:\u001b[0m\u001b[0;34m\u001b[0m\u001b[0m\n",
      "\u001b[0;31mKeyboardInterrupt\u001b[0m: "
     ],
     "output_type": "error"
    }
   ],
   "source": [
    "lr = 0.1\n",
    "train(12000000, net,train_images,y,show_num=60000)"
   ]
  },
  {
   "cell_type": "code",
   "execution_count": 4,
   "metadata": {},
   "outputs": [],
   "source": [
    "def test(layers, test_data):\n",
    "    fp_res = 0\n",
    "    for i in range(len(layers)):\n",
    "        if i == 0:\n",
    "            fp_res = layers[i].forward_propagation(\n",
    "                test_data)\n",
    "        else:\n",
    "            fp_res = layers[i].forward_propagation(fp_res.T)\n",
    "    print(\"test result is\",fp_res)\n",
    "\n",
    "\n"
   ]
  },
  {
   "cell_type": "code",
   "execution_count": 24,
   "metadata": {},
   "outputs": [],
   "source": [
    "xor = [\n",
    "    [1,0],\n",
    "    [1,1],\n",
    "    [0,0],\n",
    "    [0,1]\n",
    "]\n",
    "yor=[[0,1],[1,0],[1,0],[0,1]]\n",
    "xor = np.array(xor)\n",
    "yor = np.array([[0,1],[1,0],[1,0],[0,1]])\n",
    "\n",
    "l1 = Layer(4, 2)\n",
    "l2 = Layer(4, 4)\n",
    "l4 = Layer(2, 4)\n",
    "net = [l1,l2 ,l4]\n",
    "# print(test(net, np.array([0,0])))\n"
   ]
  },
  {
   "cell_type": "code",
   "execution_count": 29,
   "metadata": {},
   "outputs": [
    {
     "name": "stdout",
     "output_type": "stream",
     "text": [
      "iter 0 loss is 0.000000\n"
     ]
    },
    {
     "name": "stdout",
     "output_type": "stream",
     "text": [
      "iter 5000 loss is 0.000006\n"
     ]
    },
    {
     "name": "stdout",
     "output_type": "stream",
     "text": [
      "iter 10000 loss is 0.000006\n"
     ]
    },
    {
     "name": "stdout",
     "output_type": "stream",
     "text": [
      "iter 15000 loss is 0.000006\n"
     ]
    },
    {
     "name": "stdout",
     "output_type": "stream",
     "text": [
      "iter 20000 loss is 0.000005\n"
     ]
    },
    {
     "name": "stdout",
     "output_type": "stream",
     "text": [
      "iter 25000 loss is 0.000005\n"
     ]
    },
    {
     "name": "stdout",
     "output_type": "stream",
     "text": [
      "iter 30000 loss is 0.000005\n"
     ]
    },
    {
     "name": "stdout",
     "output_type": "stream",
     "text": [
      "iter 35000 loss is 0.000005\n"
     ]
    },
    {
     "name": "stdout",
     "output_type": "stream",
     "text": [
      "iter 40000 loss is 0.000005\n"
     ]
    },
    {
     "name": "stdout",
     "output_type": "stream",
     "text": [
      "iter 45000 loss is 0.000005\n"
     ]
    },
    {
     "name": "stdout",
     "output_type": "stream",
     "text": [
      "iter 50000 loss is 0.000005\n"
     ]
    },
    {
     "name": "stdout",
     "output_type": "stream",
     "text": [
      "iter 55000 loss is 0.000005\n"
     ]
    },
    {
     "name": "stdout",
     "output_type": "stream",
     "text": [
      "iter 60000 loss is 0.000005\n"
     ]
    },
    {
     "name": "stdout",
     "output_type": "stream",
     "text": [
      "iter 65000 loss is 0.000005\n"
     ]
    },
    {
     "name": "stdout",
     "output_type": "stream",
     "text": [
      "iter 70000 loss is 0.000005\n"
     ]
    },
    {
     "name": "stdout",
     "output_type": "stream",
     "text": [
      "iter 75000 loss is 0.000005\n"
     ]
    },
    {
     "name": "stdout",
     "output_type": "stream",
     "text": [
      "iter 80000 loss is 0.000005\n"
     ]
    },
    {
     "name": "stdout",
     "output_type": "stream",
     "text": [
      "iter 85000 loss is 0.000005\n"
     ]
    },
    {
     "name": "stdout",
     "output_type": "stream",
     "text": [
      "iter 90000 loss is 0.000005\n"
     ]
    },
    {
     "name": "stdout",
     "output_type": "stream",
     "text": [
      "iter 95000 loss is 0.000005\n"
     ]
    }
   ],
   "source": [
    "train(100000, net,xor,yor,show_num=5000,data_size=4)"
   ]
  },
  {
   "cell_type": "code",
   "execution_count": 36,
   "metadata": {},
   "outputs": [
    {
     "name": "stdout",
     "output_type": "stream",
     "text": [
      "test result is [[0.00202428 0.99797521]]\n"
     ]
    }
   ],
   "source": [
    "test(net, np.array([[0,1]]).T)"
   ]
  },
  {
   "cell_type": "code",
   "execution_count": 5,
   "metadata": {},
   "outputs": [],
   "source": [
    "\n",
    "import struct\n",
    "import matplotlib.pyplot as plt\n",
    "\n",
    "# 训练集文件\n",
    "train_images_idx3_ubyte_file = 'F:/pythoncode/MachineLearning/chapter6/' \\\n",
    "                               'data/train-images-idx3-ubyte'\n",
    "# 训练集标签文件\n",
    "train_labels_idx1_ubyte_file = 'F:/pythoncode/MachineLearning/' \\\n",
    "                               'chapter6/data/train-labels-idx1-ubyte'\n",
    "\n",
    "# 测试集文件\n",
    "test_images_idx3_ubyte_file = 'F:/pythoncode/MachineLearning/' \\\n",
    "                               'chapter6/data/t10k-images-idx3-ubyte'\n",
    "# 测试集标签文件\n",
    "test_labels_idx1_ubyte_file = 'F:/pythoncode/MachineLearning/' \\\n",
    "                               'chapter6/data/t10k-labels-idx1-ubyte'\n",
    "\n",
    "\n",
    "def decode_idx3_ubyte(idx3_ubyte_file):\n",
    "    \"\"\"\n",
    "    解析idx3文件的通用函数\n",
    "    :param idx3_ubyte_file: idx3文件路径\n",
    "    :return: 数据集\n",
    "    \"\"\"\n",
    "    # 读取二进制数据\n",
    "    bin_data = open(idx3_ubyte_file, 'rb').read()\n",
    "\n",
    "    # 解析文件头信息，依次为魔数、图片数量、每张图片高、每张图片宽\n",
    "    offset = 0\n",
    "    fmt_header = '>iiii' #因为数据结构中前4行的数据类型都是32位整型，所以采用i格式，但我们需要读取前4行数据，所以需要4个i。我们后面会看到标签集中，只使用2个ii。\n",
    "    magic_number, num_images, num_rows, num_cols = struct.unpack_from(fmt_header, bin_data, offset)\n",
    "    print('魔数:%d, 图片数量: %d张, 图片大小: %d*%d' % (magic_number, num_images, num_rows, num_cols))\n",
    "\n",
    "    # 解析数据集\n",
    "    image_size = num_rows * num_cols\n",
    "    offset += struct.calcsize(fmt_header)  #获得数据在缓存中的指针位置，从前面介绍的数据结构可以看出，读取了前4行之后，指针位置（即偏移位置offset）指向0016。\n",
    "    print(offset)\n",
    "    fmt_image = '>' + str(image_size) + 'B'  #图像数据像素值的类型为unsigned char型，对应的format格式为B。这里还有加上图像大小784，是为了读取784个B格式数据，如果没有则只会读取一个值（即一副图像中的一个像素值）\n",
    "    print(fmt_image,offset,struct.calcsize(fmt_image))\n",
    "    images = np.empty((num_images, num_rows, num_cols))\n",
    "    #plt.figure()\n",
    "    for i in range(num_images):\n",
    "        if (i + 1) % 10000 == 0:\n",
    "            print('已解析 %d' % (i + 1) + '张')\n",
    "            print(offset)\n",
    "        images[i] = np.array(struct.unpack_from(fmt_image, bin_data, offset)).reshape((num_rows, num_cols))\n",
    "        #print(images[i])\n",
    "        offset += struct.calcsize(fmt_image)\n",
    "#        plt.imshow(images[i],'gray')\n",
    "#        plt.pause(0.00001)\n",
    "#        plt.show()\n",
    "    #plt.show()\n",
    "\n",
    "    return images\n",
    "\n",
    "\n",
    "def decode_idx1_ubyte(idx1_ubyte_file):\n",
    "    \"\"\"\n",
    "    解析idx1文件的通用函数\n",
    "    :param idx1_ubyte_file: idx1文件路径\n",
    "    :return: 数据集\n",
    "    \"\"\"\n",
    "    # 读取二进制数据\n",
    "    bin_data = open(idx1_ubyte_file, 'rb').read()\n",
    "\n",
    "    # 解析文件头信息，依次为魔数和标签数\n",
    "    offset = 0\n",
    "    fmt_header = '>ii'\n",
    "    magic_number, num_images = struct.unpack_from(fmt_header, bin_data, offset)\n",
    "    print('魔数:%d, 图片数量: %d张' % (magic_number, num_images))\n",
    "\n",
    "    # 解析数据集\n",
    "    offset += struct.calcsize(fmt_header)\n",
    "    fmt_image = '>B'\n",
    "    labels = np.empty(num_images)\n",
    "    for i in range(num_images):\n",
    "        if (i + 1) % 10000 == 0:\n",
    "            print ('已解析 %d' % (i + 1) + '张')\n",
    "        labels[i] = struct.unpack_from(fmt_image, bin_data, offset)[0]\n",
    "        offset += struct.calcsize(fmt_image)\n",
    "    return labels\n",
    "\n",
    "\n",
    "def load_train_images(idx_ubyte_file=train_images_idx3_ubyte_file):\n",
    "    \"\"\"\n",
    "    TRAINING SET IMAGE FILE (train-images-idx3-ubyte):\n",
    "    [offset] [type]          [value]          [description]\n",
    "    0000     32 bit integer  0x00000803(2051) magic number\n",
    "    0004     32 bit integer  60000            number of images\n",
    "    0008     32 bit integer  28               number of rows\n",
    "    0012     32 bit integer  28               number of columns\n",
    "    0016     unsigned byte   ??               pixel\n",
    "    0017     unsigned byte   ??               pixel\n",
    "    ........\n",
    "    xxxx     unsigned byte   ??               pixel\n",
    "    Pixels are organized row-wise. Pixel values are 0 to 255. 0 means background (white), 255 means foreground (black).\n",
    "\n",
    "    :param idx_ubyte_file: idx文件路径\n",
    "    :return: n*row*col维np.array对象，n为图片数量\n",
    "    \"\"\"\n",
    "    return decode_idx3_ubyte(idx_ubyte_file)\n",
    "\n",
    "\n",
    "def load_train_labels(idx_ubyte_file=train_labels_idx1_ubyte_file):\n",
    "    \"\"\"\n",
    "    TRAINING SET LABEL FILE (train-labels-idx1-ubyte):\n",
    "    [offset] [type]          [value]          [description]\n",
    "    0000     32 bit integer  0x00000801(2049) magic number (MSB first)\n",
    "    0004     32 bit integer  60000            number of items\n",
    "    0008     unsigned byte   ??               label\n",
    "    0009     unsigned byte   ??               label\n",
    "    ........\n",
    "    xxxx     unsigned byte   ??               label\n",
    "    The labels values are 0 to 9.\n",
    "\n",
    "    :param idx_ubyte_file: idx文件路径\n",
    "    :return: n*1维np.array对象，n为图片数量\n",
    "    \"\"\"\n",
    "    return decode_idx1_ubyte(idx_ubyte_file)\n",
    "\n",
    "\n",
    "def load_test_images(idx_ubyte_file=test_images_idx3_ubyte_file):\n",
    "    \"\"\"\n",
    "    TEST SET IMAGE FILE (t10k-images-idx3-ubyte):\n",
    "    [offset] [type]          [value]          [description]\n",
    "    0000     32 bit integer  0x00000803(2051) magic number\n",
    "    0004     32 bit integer  10000            number of images\n",
    "    0008     32 bit integer  28               number of rows\n",
    "    0012     32 bit integer  28               number of columns\n",
    "    0016     unsigned byte   ??               pixel\n",
    "    0017     unsigned byte   ??               pixel\n",
    "    ........\n",
    "    xxxx     unsigned byte   ??               pixel\n",
    "    Pixels are organized row-wise. Pixel values are 0 to 255. 0 means background (white), 255 means foreground (black).\n",
    "\n",
    "    :param idx_ubyte_file: idx文件路径\n",
    "    :return: n*row*col维np.array对象，n为图片数量\n",
    "    \"\"\"\n",
    "    return decode_idx3_ubyte(idx_ubyte_file)\n",
    "\n",
    "\n",
    "def load_test_labels(idx_ubyte_file=test_labels_idx1_ubyte_file):\n",
    "    \"\"\"\n",
    "    TEST SET LABEL FILE (t10k-labels-idx1-ubyte):\n",
    "    [offset] [type]          [value]          [description]\n",
    "    0000     32 bit integer  0x00000801(2049) magic number (MSB first)\n",
    "    0004     32 bit integer  10000            number of items\n",
    "    0008     unsigned byte   ??               label\n",
    "    0009     unsigned byte   ??               label\n",
    "    ........\n",
    "    xxxx     unsigned byte   ??               label\n",
    "    The labels values are 0 to 9.\n",
    "\n",
    "    :param idx_ubyte_file: idx文件路径\n",
    "    :return: n*1维np.array对象，n为图片数量\n",
    "    \"\"\"\n",
    "    return decode_idx1_ubyte(idx_ubyte_file)\n",
    "\n",
    "\n",
    "\n"
   ]
  },
  {
   "cell_type": "code",
   "execution_count": 6,
   "metadata": {},
   "outputs": [
    {
     "name": "stdout",
     "output_type": "stream",
     "text": [
      "魔数:2051, 图片数量: 60000张, 图片大小: 28*28\n16\n>784B 16 784\n"
     ]
    },
    {
     "name": "stdout",
     "output_type": "stream",
     "text": [
      "已解析 10000张\n7839232\n"
     ]
    },
    {
     "name": "stdout",
     "output_type": "stream",
     "text": [
      "已解析 20000张\n15679232\n"
     ]
    },
    {
     "name": "stdout",
     "output_type": "stream",
     "text": [
      "已解析 30000张\n23519232\n"
     ]
    },
    {
     "name": "stdout",
     "output_type": "stream",
     "text": [
      "已解析 40000张\n31359232\n"
     ]
    },
    {
     "name": "stdout",
     "output_type": "stream",
     "text": [
      "已解析 50000张\n39199232\n"
     ]
    },
    {
     "name": "stdout",
     "output_type": "stream",
     "text": [
      "已解析 60000张\n47039232\n魔数:2049, 图片数量: 60000张\n已解析 10000张\n已解析 20000张\n已解析 30000张\n已解析 40000张\n已解析 50000张\n已解析 60000张\n"
     ]
    },
    {
     "name": "stdout",
     "output_type": "stream",
     "text": [
      "(60000, 784)\n(60000,)\n"
     ]
    }
   ],
   "source": [
    "\n",
    "train_images = load_train_images()\n",
    "\n",
    "train_labels = load_train_labels()\n",
    "    # test_images = load_test_images()\n",
    "    # test_labels = load_test_labels()\n",
    "\n",
    "    # 查看前十个数据及其标签以读取是否正确\n",
    "# for i in range(10):\n",
    "#     print(train_labels[i])\n",
    "#     plt.imshow(train_images[i], cmap='gray')\n",
    "#     plt.pause(0.000001)\n",
    "#     plt.show()\n",
    "# print('done')\n",
    "train_images= train_images.reshape((60000,784))\n",
    "train_images = train_images/255\n",
    "print(train_images.shape)\n",
    "print(train_labels.shape)"
   ]
  },
  {
   "cell_type": "code",
   "execution_count": 7,
   "metadata": {},
   "outputs": [],
   "source": [
    "\n",
    "y = []\n",
    "for i in range(60000):\n",
    "    item = [0,0,0,0,0,0,0,0,0,0]\n",
    "    item[int(train_labels[i])]=1\n",
    "    # print(train_labels[i])  \n",
    "    y.append(item)\n",
    "y = np.array(y)   \n"
   ]
  },
  {
   "cell_type": "code",
   "execution_count": null,
   "metadata": {},
   "outputs": [],
   "source": [
    "layer1 = Layer(128, 784)\n",
    "layer2 = Layer(128, 128)\n",
    "layer3 = Layer(128, 128)\n",
    "layer4 = Layer(10, 128)\n",
    "net = [layer1,layer2 ,layer4,layer3]\n",
    "train(100000, net,train_images,y,show_num=100)"
   ]
  },
  {
   "cell_type": "code",
   "execution_count": 8,
   "metadata": {},
   "outputs": [
    {
     "name": "stdout",
     "output_type": "stream",
     "text": [
      "魔数:2051, 图片数量: 10000张, 图片大小: 28*28\n16\n>784B 16 784\n"
     ]
    },
    {
     "name": "stdout",
     "output_type": "stream",
     "text": [
      "已解析 10000张\n7839232\n魔数:2049, 图片数量: 10000张\n已解析 10000张\n"
     ]
    }
   ],
   "source": [
    "test_images = load_test_images()\n",
    "test_labels = load_test_labels()\n",
    "testm= test_images.reshape((10000,784))\n",
    "testm = testm/255\n"
   ]
  },
  {
   "cell_type": "code",
   "execution_count": 9,
   "metadata": {},
   "outputs": [],
   "source": [
    "def test_acc(layers, test_data, y):\n",
    "    fp_res = 0\n",
    "    for i in range(len(layers)):\n",
    "        if i == 0:\n",
    "            fp_res = layers[i].forward_propagation(\n",
    "                test_data)\n",
    "        else:\n",
    "            fp_res = layers[i].forward_propagation(fp_res.T)\n",
    "    res = np.argsort(fp_res[0])[9]\n",
    "    # print(\"test result is\",fp_res)\n",
    "    if res == y:\n",
    "        return 1\n",
    "    else:\n",
    "        return 0\n",
    "    \n",
    "    "
   ]
  },
  {
   "cell_type": "code",
   "execution_count": 10,
   "metadata": {},
   "outputs": [],
   "source": [
    "def test_in_train(layers, testm, test_labels):\n",
    "    count = 0.0\n",
    "    for i in range(10000):\n",
    "        count = count+test_acc(layers, np.array([testm[i]]).T, test_labels[i])\n",
    "    return count/10000"
   ]
  },
  {
   "cell_type": "code",
   "execution_count": null,
   "metadata": {},
   "outputs": [],
   "source": []
  }
 ],
 "metadata": {
  "kernelspec": {
   "display_name": "Python 2",
   "language": "python",
   "name": "python2"
  },
  "language_info": {
   "codemirror_mode": {
    "name": "ipython",
    "version": 2
   },
   "file_extension": ".py",
   "mimetype": "text/x-python",
   "name": "python",
   "nbconvert_exporter": "python",
   "pygments_lexer": "ipython2",
   "version": "2.7.6"
  }
 },
 "nbformat": 4,
 "nbformat_minor": 0
}
